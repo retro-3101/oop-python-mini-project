{
 "cells": [
  {
   "cell_type": "code",
   "execution_count": 2,
   "metadata": {},
   "outputs": [],
   "source": [
    "import numpy as np\n",
    "import pandas as pd\n",
    "import matplotlib.pyplot as plt\n",
    "import psycopg2"
   ]
  },
  {
   "cell_type": "code",
   "execution_count": 5,
   "metadata": {},
   "outputs": [],
   "source": [
    "class Mostlikedbook:\n",
    "    def __init__(self, db_host, db_port, db_name, db_user, db_password):\n",
    "        self.db_host = db_host\n",
    "        self.db_port = db_port\n",
    "        self.db_name = db_name\n",
    "        self.db_user = db_user\n",
    "        self.db_password = db_password\n",
    "\n",
    "    def find_book(self, user_id):\n",
    "        # Connect to PostgreSQL\n",
    "        conn = psycopg2.connect(\n",
    "            host=self.db_host,\n",
    "            port=self.db_port,\n",
    "            database=self.db_name,\n",
    "            user=self.db_user,\n",
    "            password=self.db_password\n",
    "        )\n",
    "\n",
    "        # Execute SQL query to recommend the best book for the user\n",
    "        with conn.cursor() as cur:\n",
    "            cur.execute('''\n",
    "                SELECT b.*\n",
    "                FROM books b\n",
    "                INNER JOIN explicit_ratings r ON b.isbn = r.isbn\n",
    "                WHERE r.userid = %s\n",
    "                ORDER BY r.bookrating DESC\n",
    "                LIMIT 1\n",
    "            ''', (user_id,))\n",
    "            book = cur.fetchone()\n",
    "\n",
    "        # Close the database connection\n",
    "        conn.close()\n",
    "\n",
    "        return book\n"
   ]
  },
  {
   "cell_type": "code",
   "execution_count": 10,
   "metadata": {},
   "outputs": [
    {
     "name": "stdout",
     "output_type": "stream",
     "text": [
      "Recommended Book:\n",
      "ISBN: 8401422825\n",
      "Title: Fahrenheit 451\n",
      "Author: Ray Bradbury\n",
      "Year of Publication: 1993\n",
      "Publisher: Plaza &amp; Janes Editores, S.A.\n"
     ]
    }
   ],
   "source": [
    "most_liked = Mostlikedbook('localhost', '5432', 'library', 'postgres', 'admin')\n",
    "\n",
    "user_id = 183  # Replace with the desired user ID\n",
    "most_liked_book = most_liked.find_book(user_id)\n",
    "\n",
    "if most_liked_book:\n",
    "    print(\"most liked Book:\")\n",
    "    print(\"ISBN:\", most_liked_book[0])\n",
    "    print(\"Title:\", most_liked_book[1])\n",
    "    print(\"Author:\", most_liked_book[2])\n",
    "    print(\"Year of Publication:\", most_liked_book[3])\n",
    "    print(\"Publisher:\", most_liked_book[4])\n",
    "else:\n",
    "    print(\"User has not given any ratings so far.\")"
   ]
  },
  {
   "cell_type": "code",
   "execution_count": null,
   "metadata": {},
   "outputs": [],
   "source": []
  }
 ],
 "metadata": {
  "kernelspec": {
   "display_name": "Python 3",
   "language": "python",
   "name": "python3"
  },
  "language_info": {
   "codemirror_mode": {
    "name": "ipython",
    "version": 3
   },
   "file_extension": ".py",
   "mimetype": "text/x-python",
   "name": "python",
   "nbconvert_exporter": "python",
   "pygments_lexer": "ipython3",
   "version": "3.11.3"
  },
  "orig_nbformat": 4
 },
 "nbformat": 4,
 "nbformat_minor": 2
}

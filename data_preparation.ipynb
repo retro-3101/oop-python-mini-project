{
 "cells": [
  {
   "cell_type": "code",
   "execution_count": 1,
   "metadata": {},
   "outputs": [],
   "source": [
    "import pandas as pd\n",
    "import psycopg2\n",
    "import numpy as np"
   ]
  },
  {
   "cell_type": "code",
   "execution_count": 2,
   "metadata": {},
   "outputs": [
    {
     "name": "stdout",
     "output_type": "stream",
     "text": [
      "              ISBN                                         Book-Title  \\\n",
      "0       0195153448                                Classical Mythology   \n",
      "1       0002005018                                       Clara Callan   \n",
      "2       0060973129                               Decision in Normandy   \n",
      "3       0374157065  Flu: The Story of the Great Influenza Pandemic...   \n",
      "4       0393045218                             The Mummies of Urumchi   \n",
      "...            ...                                                ...   \n",
      "271374  0440400988                         There's a Bat in Bunk Five   \n",
      "271375  0525447644                            From One to One Hundred   \n",
      "271376  006008667X  Lily Dale : The True Story of the Town that Ta...   \n",
      "271377  0192126040                        Republic (World's Classics)   \n",
      "271378  0767409752  A Guided Tour of Rene Descartes' Meditations o...   \n",
      "\n",
      "                 Book-Author Year-Of-Publication  \\\n",
      "0         Mark P. O. Morford                2002   \n",
      "1       Richard Bruce Wright                2001   \n",
      "2               Carlo D'Este                1991   \n",
      "3           Gina Bari Kolata                1999   \n",
      "4            E. J. W. Barber                1999   \n",
      "...                      ...                 ...   \n",
      "271374        Paula Danziger                1988   \n",
      "271375            Teri Sloat                1991   \n",
      "271376      Christine Wicker                2004   \n",
      "271377                 Plato                1996   \n",
      "271378   Christopher  Biffle                2000   \n",
      "\n",
      "                                               Publisher  \n",
      "0                                Oxford University Press  \n",
      "1                                  HarperFlamingo Canada  \n",
      "2                                        HarperPerennial  \n",
      "3                                   Farrar Straus Giroux  \n",
      "4                             W. W. Norton &amp; Company  \n",
      "...                                                  ...  \n",
      "271374                   Random House Childrens Pub (Mm)  \n",
      "271375                                      Dutton Books  \n",
      "271376                                HarperSanFrancisco  \n",
      "271377                           Oxford University Press  \n",
      "271378  McGraw-Hill Humanities/Social Sciences/Languages  \n",
      "\n",
      "[271379 rows x 5 columns]\n"
     ]
    },
    {
     "name": "stderr",
     "output_type": "stream",
     "text": [
      "C:\\Users\\LENOVO\\AppData\\Local\\Temp\\ipykernel_3984\\1053428357.py:5: DtypeWarning: Columns (3) have mixed types. Specify dtype option on import or set low_memory=False.\n",
      "  df = pd.read_csv('books_data/books.csv', delimiter=';', usecols=[0, 1, 2, 3, 4], encoding='latin1', on_bad_lines='skip')\n"
     ]
    }
   ],
   "source": [
    "#Loading data\n",
    "import pandas as pd\n",
    "\n",
    "# Read the CSV file with error handling\n",
    "df = pd.read_csv('books_data/books.csv', delimiter=';', usecols=[0, 1, 2, 3, 4], encoding='latin1', on_bad_lines='skip')\n",
    "\n",
    "# Display the resulting DataFrame\n",
    "print(df)\n"
   ]
  },
  {
   "cell_type": "code",
   "execution_count": 3,
   "metadata": {},
   "outputs": [
    {
     "name": "stderr",
     "output_type": "stream",
     "text": [
      "C:\\Users\\LENOVO\\AppData\\Local\\Temp\\ipykernel_3372\\563218187.py:1: DtypeWarning: Columns (3) have mixed types. Specify dtype option on import or set low_memory=False.\n",
      "  books = pd.read_csv(\"books_data/books.csv\", sep=\";\", on_bad_lines='skip', encoding=\"latin-1\")\n"
     ]
    }
   ],
   "source": [
    "books = pd.read_csv(\"books_data/books.csv\", sep=\";\", on_bad_lines='skip', encoding=\"latin-1\")\n",
    "books.columns = ['ISBN', 'bookTitle', 'bookAuthor', 'yearOfPublication', 'publisher',  'imageUrlS', 'imageUrlM', 'imageUrlL']\n",
    "users = pd.read_csv('books_data/users.csv', sep=';', on_bad_lines='skip', encoding=\"latin-1\")\n",
    "users.columns = ['userID', 'Location', 'Age']\n",
    "ratings = pd.read_csv('books_data/ratings.csv', sep=';', on_bad_lines='skip', encoding=\"latin-1\")\n",
    "ratings.columns = ['userID', 'ISBN', 'bookRating']"
   ]
  },
  {
   "cell_type": "code",
   "execution_count": 4,
   "metadata": {},
   "outputs": [],
   "source": [
    "books.drop(['imageUrlS', 'imageUrlM', 'imageUrlL'],axis=1,inplace=True)"
   ]
  },
  {
   "cell_type": "code",
   "execution_count": 2,
   "metadata": {},
   "outputs": [],
   "source": [
    "class DataPreparation:\n",
    "\n",
    "    def __init__(self,path_to_books , path_to_users , path_to_rating):\n",
    "        self.path_books = path_to_books\n",
    "        self.path_users = path_to_users\n",
    "        self.path_ratings = path_to_rating\n",
    "\n",
    "        self.books = pd.read_csv(self.path_books, sep=\";\", on_bad_lines='skip', encoding=\"latin-1\")\n",
    "        self.books.columns = ['ISBN', 'bookTitle', 'bookAuthor', 'yearOfPublication', 'publisher',  'imageUrlS', 'imageUrlM', 'imageUrlL']\n",
    "        self.users = pd.read_csv(self.path_users, sep=';', on_bad_lines='skip', encoding=\"latin-1\")\n",
    "        self.users.columns = ['userID', 'Location', 'Age']\n",
    "        self.ratings = pd.read_csv(self.path_ratings, sep=';', on_bad_lines='skip', encoding=\"latin-1\")\n",
    "        self.ratings.columns = ['userID', 'ISBN', 'bookRating']\n",
    "        \n",
    "        #dropping bad columns \n",
    "        self.books = self.books[(self.books.yearOfPublication != 'DK Publishing Inc') & (self.books.yearOfPublication != 'Gallimard')]\n",
    "\n",
    "        #type casting the column\n",
    "        self.books.yearOfPublication = self.books.yearOfPublication.astype('int32')\n",
    "\n",
    "        #droppping values with none as values\n",
    "        self.books = self.books.dropna(subset=['publisher'])\n",
    "          \n",
    "        self.users.loc[(self.users.Age > 90) | (self.users.Age < 5), 'Age'] = np.nan\n",
    "        self.users.Age = self.users.Age.fillna(self.users.Age.mean())\n",
    "        self.users.Age = self.users.Age.astype(np.int32)\n",
    "\n",
    "        self.ratings_new = self.ratings[self.ratings.ISBN.isin(self.books.ISBN)]\n",
    "\n",
    "        #Hence segragating implicit and explict ratings datasets\n",
    "        self.ratings_explicit = self.ratings_new[self.ratings_new.bookRating != 0]\n",
    "        self.ratings_implicit = self.ratings_new[self.ratings_new.bookRating == 0]\n",
    "        print(self.ratings_explicit.shape)"
   ]
  },
  {
   "cell_type": "code",
   "execution_count": 6,
   "metadata": {},
   "outputs": [
    {
     "name": "stderr",
     "output_type": "stream",
     "text": [
      "C:\\Users\\LENOVO\\AppData\\Local\\Temp\\ipykernel_3372\\553130948.py:8: DtypeWarning: Columns (3) have mixed types. Specify dtype option on import or set low_memory=False.\n",
      "  self.books = pd.read_csv(self.path_books, sep=\";\", on_bad_lines='skip', encoding=\"latin-1\")\n"
     ]
    },
    {
     "name": "stdout",
     "output_type": "stream",
     "text": [
      "(383839, 3)\n"
     ]
    }
   ],
   "source": [
    "data = DataPreparation('books_data/books.csv','books_data/users.csv','books_data/ratings.csv')"
   ]
  },
  {
   "cell_type": "code",
   "execution_count": 9,
   "metadata": {},
   "outputs": [
    {
     "name": "stdout",
     "output_type": "stream",
     "text": [
      "Index(['ISBN', 'bookTitle', 'bookAuthor', 'yearOfPublication', 'publisher',\n",
      "       'imageUrlS', 'imageUrlM', 'imageUrlL'],\n",
      "      dtype='object')\n"
     ]
    }
   ],
   "source": [
    "print(data.books.columns)"
   ]
  },
  {
   "cell_type": "code",
   "execution_count": 3,
   "metadata": {},
   "outputs": [],
   "source": [
    "import psycopg2\n",
    "\n",
    "class DataPreparationPostgres(DataPreparation):\n",
    "    def __init__(self, path_to_books, path_to_users, path_to_rating):\n",
    "        super().__init__(path_to_books, path_to_users, path_to_rating)\n",
    "\n",
    "        # PostgreSQL connection details\n",
    "        self.db_host = 'localhost'\n",
    "        self.db_port = '5432'\n",
    "        self.db_name = 'library'\n",
    "        self.db_user = 'postgres'\n",
    "        self.db_password = 'admin'\n",
    "\n",
    "    def store_data_in_postgres(self):\n",
    "        # Connect to PostgreSQL\n",
    "        conn = psycopg2.connect(\n",
    "            host=self.db_host,\n",
    "            port=self.db_port,\n",
    "            database=self.db_name,\n",
    "            user=self.db_user,\n",
    "            password=self.db_password\n",
    "        )\n",
    "\n",
    "        # Create tables for books, users, and explicit ratings\n",
    "        self.create_books_table(conn)\n",
    "        self.create_users_table(conn)\n",
    "        self.create_explicit_ratings_table(conn)\n",
    "\n",
    "        # Insert data into the tables\n",
    "        self.insert_books_data(conn)\n",
    "        self.insert_users_data(conn)\n",
    "        self.insert_explicit_ratings_data(conn)\n",
    "\n",
    "        # Close the database connection\n",
    "        conn.close()\n",
    "\n",
    "    def create_books_table(self, conn):\n",
    "        # Create the books table in PostgreSQL\n",
    "        with conn.cursor() as cur:\n",
    "            cur.execute('''\n",
    "                CREATE TABLE IF NOT EXISTS books (\n",
    "                    ISBN VARCHAR(20) PRIMARY KEY,\n",
    "                    bookTitle VARCHAR(500),\n",
    "                    bookAuthor VARCHAR(500),\n",
    "                    yearOfPublication INT,\n",
    "                    publisher VARCHAR(500),\n",
    "                    imageUrlS VARCHAR(500),\n",
    "                    imageUrlM VARCHAR(500),\n",
    "                    imageUrlL VARCHAR(500)\n",
    "                )\n",
    "            ''')\n",
    "            conn.commit()\n",
    "\n",
    "    def create_users_table(self, conn):\n",
    "        # Create the users table in PostgreSQL\n",
    "        with conn.cursor() as cur:\n",
    "            cur.execute('''\n",
    "                CREATE TABLE IF NOT EXISTS users (\n",
    "                    userID INT PRIMARY KEY,\n",
    "                    Location VARCHAR(500),\n",
    "                    Age INT\n",
    "                )\n",
    "            ''')\n",
    "            conn.commit()\n",
    "\n",
    "    def create_explicit_ratings_table(self, conn):\n",
    "        # Create the explicit_ratings table in PostgreSQL\n",
    "        with conn.cursor() as cur:\n",
    "            cur.execute('''\n",
    "                CREATE TABLE IF NOT EXISTS explicit_ratings (\n",
    "                    userID INT,\n",
    "                    ISBN VARCHAR(20),\n",
    "                    bookRating INT,\n",
    "                    PRIMARY KEY (userID, ISBN),\n",
    "                    FOREIGN KEY (userID) REFERENCES users (userID),\n",
    "                    FOREIGN KEY (ISBN) REFERENCES books (ISBN)\n",
    "                )\n",
    "            ''')\n",
    "            conn.commit()\n",
    "\n",
    "    def insert_books_data(self, conn):\n",
    "        # Insert books data into the books table\n",
    "        with conn.cursor() as cur:\n",
    "            for _, book in self.books.iterrows():\n",
    "                cur.execute('''\n",
    "                    INSERT INTO books (ISBN, bookTitle, bookAuthor, yearOfPublication, publisher, imageUrlS, imageUrlM, imageUrlL)\n",
    "                    VALUES (%s, %s, %s, %s, %s, %s, %s, %s)\n",
    "                ''', (book['ISBN'], book['bookTitle'], book['bookAuthor'], book['yearOfPublication'],\n",
    "                      book['publisher'], book['imageUrlS'], book['imageUrlM'], book['imageUrlL']))\n",
    "            conn.commit()\n",
    "\n",
    "    def insert_users_data(self, conn):\n",
    "        # Insert users data into the users table\n",
    "        with conn.cursor() as cur:\n",
    "            for _, user in self.users.iterrows():\n",
    "                cur.execute('''\n",
    "                    INSERT INTO users (userID, Location, Age)\n",
    "                    VALUES (%s, %s, %s)\n",
    "                ''', (user['userID'], user['Location'], user['Age']))\n",
    "\n",
    "    def insert_explicit_ratings_data(self, conn):\n",
    "        # Insert explicit ratings data into the explicit_ratings table\n",
    "        with conn.cursor() as cur:\n",
    "            for _, rating in self.ratings_explicit.iterrows():\n",
    "                cur.execute('''\n",
    "                    INSERT INTO explicit_ratings (userID, ISBN, bookRating)\n",
    "                    VALUES (%s, %s, %s)\n",
    "                ''', (rating['userID'], rating['ISBN'], rating['bookRating']))\n",
    "            conn.commit()\n",
    "\n"
   ]
  },
  {
   "cell_type": "code",
   "execution_count": 4,
   "metadata": {},
   "outputs": [
    {
     "name": "stderr",
     "output_type": "stream",
     "text": [
      "C:\\Users\\LENOVO\\AppData\\Local\\Temp\\ipykernel_19732\\2570813239.py:8: DtypeWarning: Columns (3) have mixed types. Specify dtype option on import or set low_memory=False.\n",
      "  self.books = pd.read_csv(self.path_books, sep=\";\", on_bad_lines='skip', encoding=\"latin-1\")\n"
     ]
    },
    {
     "name": "stdout",
     "output_type": "stream",
     "text": [
      "(383839, 3)\n"
     ]
    }
   ],
   "source": [
    "input = DataPreparationPostgres('books_data/books.csv','books_data/users.csv','books_data/ratings.csv')"
   ]
  },
  {
   "cell_type": "code",
   "execution_count": 5,
   "metadata": {},
   "outputs": [],
   "source": [
    "input.store_data_in_postgres()"
   ]
  },
  {
   "cell_type": "code",
   "execution_count": null,
   "metadata": {},
   "outputs": [],
   "source": []
  }
 ],
 "metadata": {
  "kernelspec": {
   "display_name": "Python 3",
   "language": "python",
   "name": "python3"
  },
  "language_info": {
   "codemirror_mode": {
    "name": "ipython",
    "version": 3
   },
   "file_extension": ".py",
   "mimetype": "text/x-python",
   "name": "python",
   "nbconvert_exporter": "python",
   "pygments_lexer": "ipython3",
   "version": "3.11.3"
  },
  "orig_nbformat": 4
 },
 "nbformat": 4,
 "nbformat_minor": 2
}

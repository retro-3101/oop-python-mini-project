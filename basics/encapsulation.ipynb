{
 "cells": [
  {
   "cell_type": "code",
   "execution_count": 25,
   "metadata": {},
   "outputs": [],
   "source": [
    "class BankDetails:\n",
    "\n",
    "    def __init__(self,acc_num,balance):\n",
    "        self.__acc_num = acc_num\n",
    "        self.__balance = balance\n",
    "\n",
    "    def display_acc_num(self):\n",
    "        return self.__acc_num\n",
    "    \n",
    "    def balance(self):\n",
    "        return self.__balance\n",
    "    \n",
    "    \n",
    "    def deposit(self,amount):\n",
    "        self.__balance += amount\n",
    "\n",
    "    def withdraw(self,amount):\n",
    "        \n",
    "        if(amount<=self.__balance):\n",
    "            self.__balance -= amount\n",
    "\n",
    "        else:\n",
    "            print('insufficient balance')\n",
    "\n",
    "    def __str__(self):\n",
    "        return f\"account number: {self.__acc_num}\\naccount balance: {self.__balance}\"\n",
    "\n"
   ]
  },
  {
   "cell_type": "code",
   "execution_count": 26,
   "metadata": {},
   "outputs": [],
   "source": [
    "user1 = BankDetails(532432,2500.00)\n"
   ]
  },
  {
   "cell_type": "code",
   "execution_count": 27,
   "metadata": {},
   "outputs": [
    {
     "name": "stdout",
     "output_type": "stream",
     "text": [
      "2500.0\n"
     ]
    }
   ],
   "source": [
    "print(user1.balance())"
   ]
  },
  {
   "cell_type": "code",
   "execution_count": 29,
   "metadata": {},
   "outputs": [
    {
     "ename": "AttributeError",
     "evalue": "'BankDetails' object has no attribute '__balance'",
     "output_type": "error",
     "traceback": [
      "\u001b[1;31m---------------------------------------------------------------------------\u001b[0m",
      "\u001b[1;31mAttributeError\u001b[0m                            Traceback (most recent call last)",
      "Cell \u001b[1;32mIn[29], line 2\u001b[0m\n\u001b[0;32m      1\u001b[0m \u001b[39m#information on balance cannot be accessed outside the class\u001b[39;00m\n\u001b[1;32m----> 2\u001b[0m \u001b[39mprint\u001b[39m(user1\u001b[39m.\u001b[39;49m__balance)\n",
      "\u001b[1;31mAttributeError\u001b[0m: 'BankDetails' object has no attribute '__balance'"
     ]
    }
   ],
   "source": [
    "#information on balance cannot be accessed outside the class or modified\n",
    "print(user1.__balance)"
   ]
  },
  {
   "cell_type": "code",
   "execution_count": 30,
   "metadata": {},
   "outputs": [],
   "source": [
    "user1.__balance = 3000"
   ]
  },
  {
   "cell_type": "code",
   "execution_count": 31,
   "metadata": {},
   "outputs": [
    {
     "name": "stdout",
     "output_type": "stream",
     "text": [
      "2500.0\n"
     ]
    }
   ],
   "source": [
    "print(user1.balance())\n",
    "#there is no change since the data inside the class is protected from changes made outside"
   ]
  },
  {
   "cell_type": "code",
   "execution_count": null,
   "metadata": {},
   "outputs": [],
   "source": []
  }
 ],
 "metadata": {
  "kernelspec": {
   "display_name": "Python 3",
   "language": "python",
   "name": "python3"
  },
  "language_info": {
   "codemirror_mode": {
    "name": "ipython",
    "version": 3
   },
   "file_extension": ".py",
   "mimetype": "text/x-python",
   "name": "python",
   "nbconvert_exporter": "python",
   "pygments_lexer": "ipython3",
   "version": "3.11.3"
  },
  "orig_nbformat": 4
 },
 "nbformat": 4,
 "nbformat_minor": 2
}

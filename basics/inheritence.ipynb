{
 "cells": [
  {
   "cell_type": "code",
   "execution_count": 1,
   "metadata": {},
   "outputs": [],
   "source": [
    "class Vehicle:\n",
    "    def __init__(self, brand, color):\n",
    "        self.brand = brand\n",
    "        self.color = color\n",
    "\n",
    "    def display_info(self):\n",
    "        print(f\"Brand: {self.brand}\")\n",
    "        print(f\"Color: {self.color}\")\n",
    "\n",
    "\n",
    "class Car(Vehicle):\n",
    "    def __init__(self, brand, color, num_wheels):\n",
    "        super().__init__(brand, color)\n",
    "        self.num_wheels = num_wheels\n",
    "\n",
    "    def display_info(self):\n",
    "        super().display_info()\n",
    "        print(f\"Number of Wheels: {self.num_wheels}\")\n",
    "\n",
    "\n",
    "class Motorcycle(Vehicle):\n",
    "    def __init__(self, brand, color, num_seats):\n",
    "        super().__init__(brand, color)\n",
    "        self.num_seats = num_seats\n",
    "\n",
    "    def display_info(self):\n",
    "        super().display_info()\n",
    "        print(f\"Number of Seats: {self.num_seats}\")"
   ]
  },
  {
   "cell_type": "code",
   "execution_count": 2,
   "metadata": {},
   "outputs": [
    {
     "name": "stdout",
     "output_type": "stream",
     "text": [
      "Car Information:\n",
      "Brand: Honda\n",
      "Color: Red\n",
      "Number of Wheels: 4\n",
      "\n",
      "Motorcycle Information:\n",
      "Brand: Harley Davidson\n",
      "Color: Black\n",
      "Number of Seats: 2\n"
     ]
    }
   ],
   "source": [
    "# Create instances of Car and Motorcycle\n",
    "car = Car(\"Honda\", \"Red\", 4)\n",
    "motorcycle = Motorcycle(\"Harley Davidson\", \"Black\", 2)\n",
    "\n",
    "# Call the display_info() method of Car and Motorcycle\n",
    "print(\"Car Information:\")\n",
    "car.display_info()\n",
    "print()\n",
    "\n",
    "print(\"Motorcycle Information:\")\n",
    "motorcycle.display_info()"
   ]
  },
  {
   "cell_type": "code",
   "execution_count": null,
   "metadata": {},
   "outputs": [],
   "source": []
  }
 ],
 "metadata": {
  "kernelspec": {
   "display_name": "Python 3",
   "language": "python",
   "name": "python3"
  },
  "language_info": {
   "codemirror_mode": {
    "name": "ipython",
    "version": 3
   },
   "file_extension": ".py",
   "mimetype": "text/x-python",
   "name": "python",
   "nbconvert_exporter": "python",
   "pygments_lexer": "ipython3",
   "version": "3.11.3"
  },
  "orig_nbformat": 4
 },
 "nbformat": 4,
 "nbformat_minor": 2
}
